{
  "nbformat": 4,
  "nbformat_minor": 0,
  "metadata": {
    "colab": {
      "name": "Untitled0.ipynb",
      "provenance": []
    },
    "kernelspec": {
      "name": "python3",
      "display_name": "Python 3"
    },
    "language_info": {
      "name": "python"
    }
  },
  "cells": [
    {
      "cell_type": "code",
      "execution_count": null,
      "metadata": {
        "id": "BJ4YoZMbwtkq"
      },
      "outputs": [],
      "source": [
        "아러미ㅏㅇ러ㅏㅣㅁ어리ㅏ머라ㅣㅇㅁ너ㅏㄹ"
      ]
    }
  ]
}