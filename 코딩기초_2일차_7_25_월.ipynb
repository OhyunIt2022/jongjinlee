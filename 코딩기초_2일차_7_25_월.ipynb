{
  "nbformat": 4,
  "nbformat_minor": 0,
  "metadata": {
    "colab": {
      "name": "코딩기초 2일차 7.25 월",
      "provenance": [],
      "collapsed_sections": []
    },
    "kernelspec": {
      "name": "python3",
      "display_name": "Python 3"
    },
    "language_info": {
      "name": "python"
    }
  },
  "cells": [
    {
      "cell_type": "code",
      "execution_count": null,
      "metadata": {
        "colab": {
          "base_uri": "https://localhost:8080/"
        },
        "id": "kqCQ2G0-z3LB",
        "outputId": "b44f0ee4-5787-49b8-b57a-ae41a500766c"
      },
      "outputs": [
        {
          "output_type": "stream",
          "name": "stdout",
          "text": [
            "[1, 2, 3, 4, 5]\n"
          ]
        }
      ],
      "source": [
        "#추가\n",
        "배열 = [1, 2, 3, 4, 5]\n",
        "print(배열)"
      ]
    },
    {
      "cell_type": "code",
      "source": [
        "# 6을 추가하고 싶다.\n",
        "배열.append(6)\n",
        "print(배열)\n",
        "배열 .append([1, 2]) # 배열에 넣을 수 있는 자료형이 모두 가능"
      ],
      "metadata": {
        "colab": {
          "base_uri": "https://localhost:8080/"
        },
        "id": "4NVaJcSZ0U4H",
        "outputId": "97db0c32-bac4-48db-8550-56e78374ec60"
      },
      "execution_count": null,
      "outputs": [
        {
          "output_type": "stream",
          "name": "stdout",
          "text": [
            "[1, 2, 3, 4, 5, 6, 6, 6, 6, [1, 2], 6, 6]\n"
          ]
        }
      ]
    },
    {
      "cell_type": "code",
      "source": [
        "dir(배열)"
      ],
      "metadata": {
        "colab": {
          "base_uri": "https://localhost:8080/"
        },
        "id": "ulrTqXHw1AWb",
        "outputId": "5adad61a-d08e-491d-feac-b6cf716d8e49"
      },
      "execution_count": null,
      "outputs": [
        {
          "output_type": "execute_result",
          "data": {
            "text/plain": [
              "['__add__',\n",
              " '__class__',\n",
              " '__contains__',\n",
              " '__delattr__',\n",
              " '__delitem__',\n",
              " '__dir__',\n",
              " '__doc__',\n",
              " '__eq__',\n",
              " '__format__',\n",
              " '__ge__',\n",
              " '__getattribute__',\n",
              " '__getitem__',\n",
              " '__gt__',\n",
              " '__hash__',\n",
              " '__iadd__',\n",
              " '__imul__',\n",
              " '__init__',\n",
              " '__init_subclass__',\n",
              " '__iter__',\n",
              " '__le__',\n",
              " '__len__',\n",
              " '__lt__',\n",
              " '__mul__',\n",
              " '__ne__',\n",
              " '__new__',\n",
              " '__reduce__',\n",
              " '__reduce_ex__',\n",
              " '__repr__',\n",
              " '__reversed__',\n",
              " '__rmul__',\n",
              " '__setattr__',\n",
              " '__setitem__',\n",
              " '__sizeof__',\n",
              " '__str__',\n",
              " '__subclasshook__',\n",
              " 'append',\n",
              " 'clear',\n",
              " 'copy',\n",
              " 'count',\n",
              " 'extend',\n",
              " 'index',\n",
              " 'insert',\n",
              " 'pop',\n",
              " 'remove',\n",
              " 'reverse',\n",
              " 'sort']"
            ]
          },
          "metadata": {},
          "execution_count": 9
        }
      ]
    },
    {
      "cell_type": "code",
      "source": [
        "배열2 = [3, 10, 19, 100, 1, 17]"
      ],
      "metadata": {
        "id": "903V3I5U1hLX"
      },
      "execution_count": null,
      "outputs": []
    },
    {
      "cell_type": "code",
      "source": [
        "print(배열2)"
      ],
      "metadata": {
        "colab": {
          "base_uri": "https://localhost:8080/"
        },
        "id": "Y6KToNeZ1weH",
        "outputId": "f3e276ef-6d21-479f-b13f-818fa2873ab2"
      },
      "execution_count": null,
      "outputs": [
        {
          "output_type": "stream",
          "name": "stdout",
          "text": [
            "[3, 10, 19, 100, 1, 17]\n"
          ]
        }
      ]
    },
    {
      "cell_type": "code",
      "source": [
        "배열2.sort()"
      ],
      "metadata": {
        "id": "m9oyObU411W-"
      },
      "execution_count": null,
      "outputs": []
    },
    {
      "cell_type": "code",
      "source": [
        "print(배열2)"
      ],
      "metadata": {
        "colab": {
          "base_uri": "https://localhost:8080/"
        },
        "id": "cp5y7Dur144k",
        "outputId": "d3dfcda7-e03c-4bd7-fe68-772203c3ee12"
      },
      "execution_count": null,
      "outputs": [
        {
          "output_type": "stream",
          "name": "stdout",
          "text": [
            "[1, 3, 10, 17, 19, 100]\n"
          ]
        }
      ]
    },
    {
      "cell_type": "code",
      "source": [
        "문자열배열 = ['z', 'd', 'g', 'w', '가', '다', '나,']\n",
        "print(문자열배열)"
      ],
      "metadata": {
        "colab": {
          "base_uri": "https://localhost:8080/"
        },
        "id": "j_5oqrTc2EB9",
        "outputId": "41801b8f-1e1c-4e4b-b74f-bd5e43b7c1a0"
      },
      "execution_count": null,
      "outputs": [
        {
          "output_type": "stream",
          "name": "stdout",
          "text": [
            "['z', 'd', 'g', 'w', '가', '다', '나,']\n"
          ]
        }
      ]
    },
    {
      "cell_type": "code",
      "source": [
        "문자열배열.sort() # 영어와 한글이 있을 땐 영어 먼저 그다음에 한글\n",
        "print(문자열배열)"
      ],
      "metadata": {
        "colab": {
          "base_uri": "https://localhost:8080/"
        },
        "id": "JQhWFWQr2Wn2",
        "outputId": "3fce9f27-fd49-4606-f627-bb73e3f4c0e6"
      },
      "execution_count": null,
      "outputs": [
        {
          "output_type": "stream",
          "name": "stdout",
          "text": [
            "['d', 'g', 'w', 'z', '가', '나,', '다']\n"
          ]
        }
      ]
    },
    {
      "cell_type": "code",
      "source": [
        "배열3 = [5, 3, 1]\n",
        "print(배열3)"
      ],
      "metadata": {
        "colab": {
          "base_uri": "https://localhost:8080/"
        },
        "id": "MeunheD02nN3",
        "outputId": "28fadbc0-344d-44f5-8b8a-2eba62c836eb"
      },
      "execution_count": null,
      "outputs": [
        {
          "output_type": "stream",
          "name": "stdout",
          "text": [
            "[5, 3, 1]\n"
          ]
        }
      ]
    },
    {
      "cell_type": "code",
      "source": [
        "배열3.reverse()\n",
        "print(배열3) # 배열의 순서만 그대로 반대로 해줌"
      ],
      "metadata": {
        "colab": {
          "base_uri": "https://localhost:8080/"
        },
        "id": "UI-L1Goc3Apt",
        "outputId": "622207d6-6800-4e37-bffd-3e251b671d6a"
      },
      "execution_count": null,
      "outputs": [
        {
          "output_type": "stream",
          "name": "stdout",
          "text": [
            "[1, 3, 5]\n"
          ]
        }
      ]
    },
    {
      "cell_type": "code",
      "source": [
        "섞인거2 = [1, 10, 3, 'b', 'c', 'd']\n",
        "print(섞인거2)"
      ],
      "metadata": {
        "colab": {
          "base_uri": "https://localhost:8080/"
        },
        "id": "LTqiYY3n3NkV",
        "outputId": "81eb748e-4470-4882-8b04-b1186885c870"
      },
      "execution_count": null,
      "outputs": [
        {
          "output_type": "stream",
          "name": "stdout",
          "text": [
            "[1, 10, 3, 'b', 'c', 'd']\n"
          ]
        }
      ]
    },
    {
      "cell_type": "code",
      "source": [
        "섞인거2.reverse()\n",
        "print(섞인거2)"
      ],
      "metadata": {
        "colab": {
          "base_uri": "https://localhost:8080/"
        },
        "id": "QeYSSUt93X9Q",
        "outputId": "3669fc75-94d1-4bff-9d2b-cb5a54febf4d"
      },
      "execution_count": null,
      "outputs": [
        {
          "output_type": "stream",
          "name": "stdout",
          "text": [
            "['d', 'c', 'b', 3, 10, 1]\n"
          ]
        }
      ]
    },
    {
      "cell_type": "code",
      "source": [
        "배열4 = [1,2,[1, 2, 3]]\n",
        "print(배열4)"
      ],
      "metadata": {
        "colab": {
          "base_uri": "https://localhost:8080/"
        },
        "id": "CL4Dm4QJ3gWV",
        "outputId": "febba55f-fe2e-463f-c69a-3df63f4a7c1b"
      },
      "execution_count": null,
      "outputs": [
        {
          "output_type": "stream",
          "name": "stdout",
          "text": [
            "[1, 2, [1, 2, 3]]\n"
          ]
        }
      ]
    },
    {
      "cell_type": "code",
      "source": [
        "배열4.reverse()\n",
        "print(배열4)"
      ],
      "metadata": {
        "colab": {
          "base_uri": "https://localhost:8080/"
        },
        "id": "vgIUVlbv3qzD",
        "outputId": "20aa3687-6833-421b-de74-fdb5fe321755"
      },
      "execution_count": null,
      "outputs": [
        {
          "output_type": "stream",
          "name": "stdout",
          "text": [
            "[1, 2, [3, 2, 1]]\n"
          ]
        }
      ]
    },
    {
      "cell_type": "code",
      "source": [
        "배열4[-1].reverse()\n",
        "print(배열4)"
      ],
      "metadata": {
        "colab": {
          "base_uri": "https://localhost:8080/"
        },
        "id": "JlqF-ZUZ37t7",
        "outputId": "6b11908c-0fcb-4bc3-882c-097b0f9f99c2"
      },
      "execution_count": null,
      "outputs": [
        {
          "output_type": "stream",
          "name": "stdout",
          "text": [
            "[1, 2, [3, 2, 1]]\n"
          ]
        }
      ]
    },
    {
      "cell_type": "code",
      "source": [
        "배열4.reverse()\n",
        "print(배열4)"
      ],
      "metadata": {
        "colab": {
          "base_uri": "https://localhost:8080/"
        },
        "id": "a5w9Oi__5nQ8",
        "outputId": "3fbc6eca-871a-42cc-d146-5ca86cfe338b"
      },
      "execution_count": null,
      "outputs": [
        {
          "output_type": "stream",
          "name": "stdout",
          "text": [
            "[[3, 2, 1], 2, 1]\n"
          ]
        }
      ]
    },
    {
      "cell_type": "code",
      "source": [
        "숫자 = 1"
      ],
      "metadata": {
        "id": "Vjz8pZUP-5Ab"
      },
      "execution_count": null,
      "outputs": []
    },
    {
      "cell_type": "code",
      "source": [
        "숫자 = 숫자 + 1\n",
        "print(숫자)"
      ],
      "metadata": {
        "colab": {
          "base_uri": "https://localhost:8080/"
        },
        "id": "3an4WeL8-8Pe",
        "outputId": "d812f277-48a8-4377-970b-8d7c5aadfad5"
      },
      "execution_count": null,
      "outputs": [
        {
          "output_type": "stream",
          "name": "stdout",
          "text": [
            "2\n"
          ]
        }
      ]
    },
    {
      "cell_type": "code",
      "source": [
        "#배열.index(찾고자하는 값)\n",
        "음식 = ['라면', '떡볶이', '커피', '짜장면', '파스타', '피자', '불족']\n",
        "불족인덱스 = 음식.index('불족')\n",
        "print(불족인덱스)"
      ],
      "metadata": {
        "colab": {
          "base_uri": "https://localhost:8080/"
        },
        "id": "1yjXH1IO_Fl6",
        "outputId": "28b892f5-b4a8-46dc-f91e-776b91e87894"
      },
      "execution_count": null,
      "outputs": [
        {
          "output_type": "stream",
          "name": "stdout",
          "text": [
            "5\n"
          ]
        }
      ]
    },
    {
      "cell_type": "code",
      "source": [
        "# 배열안에 없는 값을 찾으려고 하면 에러변환!\n",
        "음식.index('소고기')"
      ],
      "metadata": {
        "colab": {
          "base_uri": "https://localhost:8080/",
          "height": 176
        },
        "id": "u8UiMnlC_0pf",
        "outputId": "89fe5bf3-9638-4a0c-f69f-d5ac28c0ecbe"
      },
      "execution_count": null,
      "outputs": [
        {
          "output_type": "error",
          "ename": "ValueError",
          "evalue": "ignored",
          "traceback": [
            "\u001b[0;31m---------------------------------------------------------------------------\u001b[0m",
            "\u001b[0;31mValueError\u001b[0m                                Traceback (most recent call last)",
            "\u001b[0;32m<ipython-input-70-01e0f5b8be94>\u001b[0m in \u001b[0;36m<module>\u001b[0;34m()\u001b[0m\n\u001b[0;32m----> 1\u001b[0;31m \u001b[0m음식\u001b[0m\u001b[0;34m.\u001b[0m\u001b[0mindex\u001b[0m\u001b[0;34m(\u001b[0m\u001b[0;34m'소고기'\u001b[0m\u001b[0;34m)\u001b[0m\u001b[0;34m\u001b[0m\u001b[0;34m\u001b[0m\u001b[0m\n\u001b[0m",
            "\u001b[0;31mValueError\u001b[0m: '소고기' is not in list"
          ]
        }
      ]
    },
    {
      "cell_type": "code",
      "source": [
        "음식.insert(불족인덱스, '소고기')\n",
        "print(음식)"
      ],
      "metadata": {
        "colab": {
          "base_uri": "https://localhost:8080/"
        },
        "id": "5H8IUflVAzs1",
        "outputId": "37e47be7-6f4f-4243-a76a-49f336170f5f"
      },
      "execution_count": null,
      "outputs": [
        {
          "output_type": "stream",
          "name": "stdout",
          "text": [
            "['라면', '떡볶이', '커피', '짜장면', '파스타', '소고기', '불족']\n"
          ]
        }
      ]
    },
    {
      "cell_type": "code",
      "source": [
        "음식.pop() #pop 맨 뒤에걸 빼오는것, 그 값에서는 빠져서 없어짐\n",
        "           #배열.pop(인덱스), 인덱스 값이 없으면 맨뒤값이 기본값"
      ],
      "metadata": {
        "colab": {
          "base_uri": "https://localhost:8080/",
          "height": 36
        },
        "id": "FBjejItDBoDk",
        "outputId": "ebcc6ad7-6170-4f59-9438-d896ead669d1"
      },
      "execution_count": null,
      "outputs": [
        {
          "output_type": "execute_result",
          "data": {
            "text/plain": [
              "'불족'"
            ],
            "application/vnd.google.colaboratory.intrinsic+json": {
              "type": "string"
            }
          },
          "metadata": {},
          "execution_count": 72
        }
      ]
    },
    {
      "cell_type": "code",
      "source": [
        "print(음식)"
      ],
      "metadata": {
        "colab": {
          "base_uri": "https://localhost:8080/"
        },
        "id": "9Am-sCRyBu9L",
        "outputId": "0dc43b3d-ad00-4b5e-f1e5-f2ee95210516"
      },
      "execution_count": null,
      "outputs": [
        {
          "output_type": "stream",
          "name": "stdout",
          "text": [
            "['라면', '떡볶이', '커피', '짜장면', '파스타', '소고기']\n"
          ]
        }
      ]
    },
    {
      "cell_type": "code",
      "source": [
        "음식.pop(2)"
      ],
      "metadata": {
        "colab": {
          "base_uri": "https://localhost:8080/",
          "height": 36
        },
        "id": "Lf0cflWuB3-x",
        "outputId": "5a9b9e3b-5917-48a0-8615-9498b5bb3a41"
      },
      "execution_count": null,
      "outputs": [
        {
          "output_type": "execute_result",
          "data": {
            "text/plain": [
              "'커피'"
            ],
            "application/vnd.google.colaboratory.intrinsic+json": {
              "type": "string"
            }
          },
          "metadata": {},
          "execution_count": 74
        }
      ]
    },
    {
      "cell_type": "code",
      "source": [
        "print(음식)"
      ],
      "metadata": {
        "colab": {
          "base_uri": "https://localhost:8080/"
        },
        "id": "mFEiUuG6B7C0",
        "outputId": "3f1950cb-4a84-43da-b181-ed798b9bf316"
      },
      "execution_count": null,
      "outputs": [
        {
          "output_type": "stream",
          "name": "stdout",
          "text": [
            "['라면', '떡볶이', '짜장면', '파스타', '소고기']\n"
          ]
        }
      ]
    },
    {
      "cell_type": "code",
      "source": [
        "음식.remove('파스타')\n",
        "\n",
        "print(음식)"
      ],
      "metadata": {
        "colab": {
          "base_uri": "https://localhost:8080/"
        },
        "id": "U9wToEvbCKjr",
        "outputId": "b668b02a-50a6-47bc-bb2c-a011574672d9"
      },
      "execution_count": null,
      "outputs": [
        {
          "output_type": "stream",
          "name": "stdout",
          "text": [
            "['라면', '떡볶이', '짜장면']\n"
          ]
        }
      ]
    },
    {
      "cell_type": "code",
      "source": [
        "꺼낸음식 = 음식.pop() # 꺼내서 넘겨주기. 꺼내고 갖고 있음\n",
        "print(꺼낸음식)"
      ],
      "metadata": {
        "colab": {
          "base_uri": "https://localhost:8080/",
          "height": 194
        },
        "id": "yjRLjFiqCY6l",
        "outputId": "b38d634e-cf61-4202-ea14-fe93205407b1"
      },
      "execution_count": null,
      "outputs": [
        {
          "output_type": "error",
          "ename": "IndexError",
          "evalue": "ignored",
          "traceback": [
            "\u001b[0;31m---------------------------------------------------------------------------\u001b[0m",
            "\u001b[0;31mIndexError\u001b[0m                                Traceback (most recent call last)",
            "\u001b[0;32m<ipython-input-87-56bb501d1e11>\u001b[0m in \u001b[0;36m<module>\u001b[0;34m()\u001b[0m\n\u001b[0;32m----> 1\u001b[0;31m \u001b[0m꺼낸음식\u001b[0m \u001b[0;34m=\u001b[0m \u001b[0m음식\u001b[0m\u001b[0;34m.\u001b[0m\u001b[0mpop\u001b[0m\u001b[0;34m(\u001b[0m\u001b[0;34m)\u001b[0m \u001b[0;31m# 꺼내서 넘겨주기. 꺼내고 갖고 있음\u001b[0m\u001b[0;34m\u001b[0m\u001b[0;34m\u001b[0m\u001b[0m\n\u001b[0m\u001b[1;32m      2\u001b[0m \u001b[0mprint\u001b[0m\u001b[0;34m(\u001b[0m\u001b[0m꺼낸음식\u001b[0m\u001b[0;34m)\u001b[0m\u001b[0;34m\u001b[0m\u001b[0;34m\u001b[0m\u001b[0m\n",
            "\u001b[0;31mIndexError\u001b[0m: pop from empty list"
          ]
        }
      ]
    },
    {
      "cell_type": "code",
      "source": [
        "삭제 = 음식.remove('떡볶이') #삭제는 없어짐.\n",
        "print(삭제)"
      ],
      "metadata": {
        "colab": {
          "base_uri": "https://localhost:8080/",
          "height": 194
        },
        "id": "at4VcuvbCkxo",
        "outputId": "f4371d0a-84ba-44a3-9f9a-4369afe2ca6b"
      },
      "execution_count": null,
      "outputs": [
        {
          "output_type": "error",
          "ename": "ValueError",
          "evalue": "ignored",
          "traceback": [
            "\u001b[0;31m---------------------------------------------------------------------------\u001b[0m",
            "\u001b[0;31mValueError\u001b[0m                                Traceback (most recent call last)",
            "\u001b[0;32m<ipython-input-86-6462ee89113c>\u001b[0m in \u001b[0;36m<module>\u001b[0;34m()\u001b[0m\n\u001b[0;32m----> 1\u001b[0;31m \u001b[0m삭제\u001b[0m \u001b[0;34m=\u001b[0m \u001b[0m음식\u001b[0m\u001b[0;34m.\u001b[0m\u001b[0mremove\u001b[0m\u001b[0;34m(\u001b[0m\u001b[0;34m'떡볶이'\u001b[0m\u001b[0;34m)\u001b[0m\u001b[0;34m\u001b[0m\u001b[0;34m\u001b[0m\u001b[0m\n\u001b[0m\u001b[1;32m      2\u001b[0m \u001b[0mprint\u001b[0m\u001b[0;34m(\u001b[0m\u001b[0m삭제\u001b[0m\u001b[0;34m)\u001b[0m\u001b[0;34m\u001b[0m\u001b[0;34m\u001b[0m\u001b[0m\n",
            "\u001b[0;31mValueError\u001b[0m: list.remove(x): x not in list"
          ]
        }
      ]
    },
    {
      "cell_type": "code",
      "source": [
        "배열5 = [1,1,1,2,3,4,4, '하이', '하이',1,2]\n",
        "하이개수 = 배열5.count('하이')\n",
        "print(하이개수)"
      ],
      "metadata": {
        "colab": {
          "base_uri": "https://localhost:8080/"
        },
        "id": "xBLJSXv5DSUH",
        "outputId": "42024aab-8ec5-4bdd-dd27-62b118099e01"
      },
      "execution_count": null,
      "outputs": [
        {
          "output_type": "stream",
          "name": "stdout",
          "text": [
            "2\n"
          ]
        }
      ]
    },
    {
      "cell_type": "code",
      "source": [
        "일의개수 = 배열5.count(1)\n",
        "print(일의개수)"
      ],
      "metadata": {
        "colab": {
          "base_uri": "https://localhost:8080/"
        },
        "id": "hsQy8TVtDhTX",
        "outputId": "724515cd-81e9-4865-fa45-eecd228fed01"
      },
      "execution_count": null,
      "outputs": [
        {
          "output_type": "stream",
          "name": "stdout",
          "text": [
            "4\n"
          ]
        }
      ]
    },
    {
      "cell_type": "code",
      "source": [
        "없는것 = 배열5.count('집행검')\n",
        "print(없는것)"
      ],
      "metadata": {
        "colab": {
          "base_uri": "https://localhost:8080/"
        },
        "id": "RL-gwSqSDz_G",
        "outputId": "f0d0c364-2305-4fb9-9899-a9bd5dafaadb"
      },
      "execution_count": null,
      "outputs": [
        {
          "output_type": "stream",
          "name": "stdout",
          "text": [
            "0\n"
          ]
        }
      ]
    },
    {
      "cell_type": "code",
      "source": [
        "배열6 = [1,2,3]\n",
        "배열7 = [4,5,6]\n",
        "배열6.extend(배열7) # => 배열6이 바뀐것임\n",
        "print(배열6)\n",
        "print(배열7)"
      ],
      "metadata": {
        "colab": {
          "base_uri": "https://localhost:8080/"
        },
        "id": "T2FHlj1kEC7_",
        "outputId": "8ff3527a-c252-4e63-cca8-deae5ec04fb0"
      },
      "execution_count": null,
      "outputs": [
        {
          "output_type": "stream",
          "name": "stdout",
          "text": [
            "[1, 2, 3, 4, 5, 6]\n",
            "[4, 5, 6]\n"
          ]
        }
      ]
    },
    {
      "cell_type": "code",
      "source": [
        "배열8 = [1,2,3]\n",
        "배열9 = 배열8.copy()\n",
        "print(배열8, \"배열8\")\n",
        "print(배열9, \"배열9\")\n",
        "배열9[0] = 10\n",
        "print(배열8, \"배열8\")\n",
        "print(배열9, \"배열9\")"
      ],
      "metadata": {
        "colab": {
          "base_uri": "https://localhost:8080/"
        },
        "id": "ybKAU1zNFbw6",
        "outputId": "b1ea3f14-c707-429e-e4d7-0c569a049e09"
      },
      "execution_count": null,
      "outputs": [
        {
          "output_type": "stream",
          "name": "stdout",
          "text": [
            "[1, 2, 3] 배열8\n",
            "[1, 2, 3] 배열9\n",
            "[10, 2, 3] 배열8\n",
            "[10, 2, 3] 배열9\n"
          ]
        }
      ]
    },
    {
      "cell_type": "code",
      "source": [
        "배열10 = [1,2,3,4,5]\n",
        "print(배열10, \"클리어 이전\")\n",
        "배열10.clear()\n",
        "print(배열10, \"클리어 후\")"
      ],
      "metadata": {
        "colab": {
          "base_uri": "https://localhost:8080/"
        },
        "id": "7U8rdXBBG95p",
        "outputId": "1c803fd2-2735-4d90-e625-54b78da65d9b"
      },
      "execution_count": null,
      "outputs": [
        {
          "output_type": "stream",
          "name": "stdout",
          "text": [
            "[1, 2, 3, 4, 5] 클리어 이전\n",
            "[] 클리어 후\n"
          ]
        }
      ]
    },
    {
      "cell_type": "markdown",
      "source": [
        "# 투플"
      ],
      "metadata": {
        "id": "mE1abfz2Ho0O"
      }
    },
    {
      "cell_type": "code",
      "source": [
        "튜플 = (1,2,3)\n",
        "print(튜플)"
      ],
      "metadata": {
        "colab": {
          "base_uri": "https://localhost:8080/"
        },
        "id": "bkfxYchHHuAj",
        "outputId": "090ec497-6dd3-42fb-c911-f9844f2aa132"
      },
      "execution_count": null,
      "outputs": [
        {
          "output_type": "stream",
          "name": "stdout",
          "text": [
            "(1, 2, 3)\n"
          ]
        }
      ]
    },
    {
      "cell_type": "code",
      "source": [
        ""
      ],
      "metadata": {
        "id": "EhV7C4V2H0QR"
      },
      "execution_count": null,
      "outputs": []
    },
    {
      "cell_type": "code",
      "source": [
        "샘플배열 = [1,2,3]\n",
        "print(샘플배열)\\\n",
        "#값 삭제, 다 삭제가능\n",
        "del 샘플배열[0]\n",
        "print(샘플배열)"
      ],
      "metadata": {
        "colab": {
          "base_uri": "https://localhost:8080/"
        },
        "id": "ZYC1v1oGH6an",
        "outputId": "1db6e02e-05f8-40c1-aefa-f7cd13fd42a8"
      },
      "execution_count": null,
      "outputs": [
        {
          "output_type": "stream",
          "name": "stdout",
          "text": [
            "[1, 2, 3]\n",
            "[2, 3]\n"
          ]
        }
      ]
    },
    {
      "cell_type": "code",
      "source": [
        "튜플1 = (1,2,3,[1,2,3]) #튜플안의 값은 바꿀 수 없지만 튜플 안의 값 안의 값을 바꾼것임\n",
        "print(튜플1)\n",
        "튜플1[-1][0] = 10\n",
        "print(튜플1)"
      ],
      "metadata": {
        "colab": {
          "base_uri": "https://localhost:8080/"
        },
        "id": "Bds_HPZlIuTn",
        "outputId": "9a572e7e-7e82-4869-d209-91fee6a17b08"
      },
      "execution_count": null,
      "outputs": [
        {
          "output_type": "stream",
          "name": "stdout",
          "text": [
            "(1, 2, 3, [1, 2, 3])\n",
            "(1, 2, 3, [10, 2, 3])\n"
          ]
        }
      ]
    },
    {
      "cell_type": "markdown",
      "source": [
        "# 딕셔너리"
      ],
      "metadata": {
        "id": "TDt7RxAYQBeg"
      }
    },
    {
      "cell_type": "code",
      "source": [
        "딕셔너리 = {'키':'값'}\n",
        "print(딕셔너리)\n",
        "print(딕셔너리['키'])"
      ],
      "metadata": {
        "colab": {
          "base_uri": "https://localhost:8080/"
        },
        "id": "RzRvSaUxJwO3",
        "outputId": "59f74ae7-9e13-467f-c65a-95c5b515e228"
      },
      "execution_count": null,
      "outputs": [
        {
          "output_type": "stream",
          "name": "stdout",
          "text": [
            "{'키': '값'}\n",
            "값\n"
          ]
        }
      ]
    },
    {
      "cell_type": "code",
      "source": [
        "print(type(딕셔너리))"
      ],
      "metadata": {
        "colab": {
          "base_uri": "https://localhost:8080/"
        },
        "id": "_1JpKjCQQNwz",
        "outputId": "d14fc3ec-5cb0-4ed8-888c-724786b74dd6"
      },
      "execution_count": null,
      "outputs": [
        {
          "output_type": "stream",
          "name": "stdout",
          "text": [
            "<class 'dict'>\n"
          ]
        }
      ]
    },
    {
      "cell_type": "code",
      "source": [
        "회원정보 = {\n",
        "    '이름' : '이종진',\n",
        "    '번호' : '010-8424-9660',\n",
        "    '성별' : '남'\n",
        "}\n",
        "print(회원정보)"
      ],
      "metadata": {
        "colab": {
          "base_uri": "https://localhost:8080/"
        },
        "id": "zHvauEcEQzij",
        "outputId": "e7437f50-1f7f-4fca-ab89-204887bdac35"
      },
      "execution_count": null,
      "outputs": [
        {
          "output_type": "stream",
          "name": "stdout",
          "text": [
            "{'이름': '이종진', '번호': '010-8424-9660', '성별': '남'}\n"
          ]
        }
      ]
    },
    {
      "cell_type": "code",
      "source": [
        "print(회원정보['이름'])\n",
        "print(회원정보['번호'])\n",
        "print(회원정보['성별'])"
      ],
      "metadata": {
        "colab": {
          "base_uri": "https://localhost:8080/"
        },
        "id": "xCDIhqJjRDUv",
        "outputId": "491adab2-a82b-4540-f251-95031b43f8c4"
      },
      "execution_count": null,
      "outputs": [
        {
          "output_type": "stream",
          "name": "stdout",
          "text": [
            "이종진\n",
            "010-8424-9660\n",
            "남\n"
          ]
        }
      ]
    },
    {
      "cell_type": "code",
      "source": [
        "회원정보['주소'] = '제주시'\n",
        "print(회원정보['주소'])"
      ],
      "metadata": {
        "colab": {
          "base_uri": "https://localhost:8080/"
        },
        "id": "pZvjpUdjRXkG",
        "outputId": "fdb1f30b-5523-40c2-fd93-c53e5cee7b91"
      },
      "execution_count": null,
      "outputs": [
        {
          "output_type": "stream",
          "name": "stdout",
          "text": [
            "제주시\n"
          ]
        }
      ]
    },
    {
      "cell_type": "code",
      "source": [
        "회원정보['번호'] = '010-0000-0000'\n",
        "print(회원정보)"
      ],
      "metadata": {
        "colab": {
          "base_uri": "https://localhost:8080/"
        },
        "id": "Y2kTgmAqRvph",
        "outputId": "8a110ec3-05ea-4e98-b3c5-8afe80793b04"
      },
      "execution_count": null,
      "outputs": [
        {
          "output_type": "stream",
          "name": "stdout",
          "text": [
            "{'이름': '이종진', '번호': '010-0000-0000', '성별': '남', '주소': '제주시'}\n"
          ]
        }
      ]
    },
    {
      "cell_type": "code",
      "source": [
        "#중복되는 키 허용 X"
      ],
      "metadata": {
        "id": "racqVGgwR_J-"
      },
      "execution_count": null,
      "outputs": []
    },
    {
      "cell_type": "code",
      "source": [
        "회원정보.keys()"
      ],
      "metadata": {
        "colab": {
          "base_uri": "https://localhost:8080/"
        },
        "id": "bh2BpBKDSDtO",
        "outputId": "5857a9ce-516b-432f-ffae-3b0a4100ee2e"
      },
      "execution_count": null,
      "outputs": [
        {
          "output_type": "execute_result",
          "data": {
            "text/plain": [
              "dict_keys(['이름', '번호', '성별', '주소'])"
            ]
          },
          "metadata": {},
          "execution_count": 121
        }
      ]
    },
    {
      "cell_type": "code",
      "source": [
        "dir(회원정보)"
      ],
      "metadata": {
        "colab": {
          "base_uri": "https://localhost:8080/"
        },
        "id": "J_qGqKt4SMzF",
        "outputId": "00dd31e8-6ce0-4555-c852-77e548a94d33"
      },
      "execution_count": null,
      "outputs": [
        {
          "output_type": "execute_result",
          "data": {
            "text/plain": [
              "['__class__',\n",
              " '__contains__',\n",
              " '__delattr__',\n",
              " '__delitem__',\n",
              " '__dir__',\n",
              " '__doc__',\n",
              " '__eq__',\n",
              " '__format__',\n",
              " '__ge__',\n",
              " '__getattribute__',\n",
              " '__getitem__',\n",
              " '__gt__',\n",
              " '__hash__',\n",
              " '__init__',\n",
              " '__init_subclass__',\n",
              " '__iter__',\n",
              " '__le__',\n",
              " '__len__',\n",
              " '__lt__',\n",
              " '__ne__',\n",
              " '__new__',\n",
              " '__reduce__',\n",
              " '__reduce_ex__',\n",
              " '__repr__',\n",
              " '__setattr__',\n",
              " '__setitem__',\n",
              " '__sizeof__',\n",
              " '__str__',\n",
              " '__subclasshook__',\n",
              " 'clear',\n",
              " 'copy',\n",
              " 'fromkeys',\n",
              " 'get',\n",
              " 'items',\n",
              " 'keys',\n",
              " 'pop',\n",
              " 'popitem',\n",
              " 'setdefault',\n",
              " 'update',\n",
              " 'values']"
            ]
          },
          "metadata": {},
          "execution_count": 122
        }
      ]
    },
    {
      "cell_type": "code",
      "source": [
        "회원정보키 = 회원정보.keys()\n",
        "회원정보값 = 회원정보.values()\n",
        "print(회원정보키, \"키\")\n",
        "print(회원정보값, \"값\")"
      ],
      "metadata": {
        "colab": {
          "base_uri": "https://localhost:8080/"
        },
        "id": "WbUVS3jYSa5x",
        "outputId": "4471cce4-c93a-42b7-92b6-768b76622949"
      },
      "execution_count": null,
      "outputs": [
        {
          "output_type": "stream",
          "name": "stdout",
          "text": [
            "dict_keys(['이름', '번호', '성별', '주소']) 키\n",
            "dict_values(['이종진', '010-0000-0000', '남', '제주시']) 값\n"
          ]
        }
      ]
    },
    {
      "cell_type": "code",
      "source": [
        "print([회원정보, 회원정보])"
      ],
      "metadata": {
        "colab": {
          "base_uri": "https://localhost:8080/"
        },
        "id": "1m8wmzzhS8LF",
        "outputId": "1f69eea6-5a46-4c93-c995-d2d6776762fa"
      },
      "execution_count": null,
      "outputs": [
        {
          "output_type": "stream",
          "name": "stdout",
          "text": [
            "[{'이름': '이종진', '번호': '010-0000-0000', '성별': '남', '주소': '제주시'}, {'이름': '이종진', '번호': '010-0000-0000', '성별': '남', '주소': '제주시'}]\n"
          ]
        }
      ]
    },
    {
      "cell_type": "code",
      "source": [
        "회원정보.get('이름')"
      ],
      "metadata": {
        "colab": {
          "base_uri": "https://localhost:8080/",
          "height": 36
        },
        "id": "TjR1EsFMTCBz",
        "outputId": "e1547ce4-7925-43c3-d755-d12be4fca7a3"
      },
      "execution_count": null,
      "outputs": [
        {
          "output_type": "execute_result",
          "data": {
            "text/plain": [
              "'이종진'"
            ],
            "application/vnd.google.colaboratory.intrinsic+json": {
              "type": "string"
            }
          },
          "metadata": {},
          "execution_count": 125
        }
      ]
    },
    {
      "cell_type": "code",
      "source": [
        "샘플딕셔너리 = {\n",
        "    \"배열1\":[1,2,3]\n",
        "}\n",
        "배열get = 샘플딕셔너리.get(\"배열2\") #없는 키값은 none으로 없다고 알려줌"
      ],
      "metadata": {
        "id": "-aAmOAVjTQ70"
      },
      "execution_count": null,
      "outputs": []
    },
    {
      "cell_type": "code",
      "source": [
        "print(배열get)"
      ],
      "metadata": {
        "colab": {
          "base_uri": "https://localhost:8080/"
        },
        "id": "IMVroeVBUAOF",
        "outputId": "6dfc0cc8-7987-46f3-bac5-2b13e042910a"
      },
      "execution_count": null,
      "outputs": [
        {
          "output_type": "stream",
          "name": "stdout",
          "text": [
            "None\n"
          ]
        }
      ]
    },
    {
      "cell_type": "code",
      "source": [
        "'이름' in 회원정보"
      ],
      "metadata": {
        "colab": {
          "base_uri": "https://localhost:8080/"
        },
        "id": "I6xmzzkWUF6l",
        "outputId": "000837e7-1ad8-4645-f6fe-ff4c3fae990c"
      },
      "execution_count": null,
      "outputs": [
        {
          "output_type": "execute_result",
          "data": {
            "text/plain": [
              "True"
            ]
          },
          "metadata": {},
          "execution_count": 130
        }
      ]
    },
    {
      "cell_type": "code",
      "source": [
        "'직업' in 회원정보"
      ],
      "metadata": {
        "colab": {
          "base_uri": "https://localhost:8080/"
        },
        "id": "8d6tcqE5UYo9",
        "outputId": "e4e65141-c2d5-42bd-e881-d55087c9e20f"
      },
      "execution_count": null,
      "outputs": [
        {
          "output_type": "execute_result",
          "data": {
            "text/plain": [
              "False"
            ]
          },
          "metadata": {},
          "execution_count": 131
        }
      ]
    },
    {
      "cell_type": "markdown",
      "source": [
        "# Bool 자료형"
      ],
      "metadata": {
        "id": "6xZtUXtYUdX_"
      }
    },
    {
      "cell_type": "code",
      "source": [
        "print(True)"
      ],
      "metadata": {
        "colab": {
          "base_uri": "https://localhost:8080/"
        },
        "id": "_nu2Zcq0UcAM",
        "outputId": "f7e66c9e-f10c-43d2-fc20-225cf9f8b41f"
      },
      "execution_count": null,
      "outputs": [
        {
          "output_type": "stream",
          "name": "stdout",
          "text": [
            "True\n"
          ]
        }
      ]
    },
    {
      "cell_type": "code",
      "source": [
        "print(type(True))"
      ],
      "metadata": {
        "colab": {
          "base_uri": "https://localhost:8080/"
        },
        "id": "abVCmKZ9UtZH",
        "outputId": "2ff1a694-6a46-4ea4-93da-305ea3318685"
      },
      "execution_count": null,
      "outputs": [
        {
          "output_type": "stream",
          "name": "stdout",
          "text": [
            "<class 'bool'>\n"
          ]
        }
      ]
    },
    {
      "cell_type": "code",
      "source": [
        "print(False)"
      ],
      "metadata": {
        "colab": {
          "base_uri": "https://localhost:8080/"
        },
        "id": "t_ehVSw9Uwdr",
        "outputId": "3078f066-5726-44a6-841e-bab42712040c"
      },
      "execution_count": null,
      "outputs": [
        {
          "output_type": "stream",
          "name": "stdout",
          "text": [
            "False\n"
          ]
        }
      ]
    },
    {
      "cell_type": "code",
      "source": [
        "print(type(False))"
      ],
      "metadata": {
        "colab": {
          "base_uri": "https://localhost:8080/"
        },
        "id": "N58N7VRtU405",
        "outputId": "451b4631-49d5-49a9-b635-10e07f73c7c5"
      },
      "execution_count": null,
      "outputs": [
        {
          "output_type": "stream",
          "name": "stdout",
          "text": [
            "<class 'bool'>\n"
          ]
        }
      ]
    },
    {
      "cell_type": "code",
      "source": [
        "숫자1 = 10\n",
        "숫자2 = 20"
      ],
      "metadata": {
        "id": "WdpzwLxvU7al"
      },
      "execution_count": null,
      "outputs": []
    },
    {
      "cell_type": "markdown",
      "source": [
        ""
      ],
      "metadata": {
        "id": "g4J0QRPMVO2x"
      }
    },
    {
      "cell_type": "code",
      "source": [
        "결과1 = 숫자1 < 숫자2\n",
        "print(결과1)"
      ],
      "metadata": {
        "colab": {
          "base_uri": "https://localhost:8080/"
        },
        "id": "Z5OPynrcVOl3",
        "outputId": "a36f0233-e47a-420b-d4ce-86f9e57e23d8"
      },
      "execution_count": null,
      "outputs": [
        {
          "output_type": "stream",
          "name": "stdout",
          "text": [
            "True\n"
          ]
        }
      ]
    },
    {
      "cell_type": "code",
      "source": [
        "결과2 = 숫자1 > 숫자2\n",
        "print(결과2)"
      ],
      "metadata": {
        "colab": {
          "base_uri": "https://localhost:8080/"
        },
        "id": "hm-ABwClVaMV",
        "outputId": "b3707c6f-e56c-40ec-8675-b74efc4e7665"
      },
      "execution_count": null,
      "outputs": [
        {
          "output_type": "stream",
          "name": "stdout",
          "text": [
            "False\n"
          ]
        }
      ]
    },
    {
      "cell_type": "code",
      "source": [
        "결과3 = 숫자1 >= 숫자2\n",
        "print(결과3)"
      ],
      "metadata": {
        "colab": {
          "base_uri": "https://localhost:8080/"
        },
        "id": "V6341paIVfCg",
        "outputId": "56051680-dc44-43d5-d092-aa6882fd20cc"
      },
      "execution_count": null,
      "outputs": [
        {
          "output_type": "stream",
          "name": "stdout",
          "text": [
            "False\n"
          ]
        }
      ]
    },
    {
      "cell_type": "code",
      "source": [
        "결과3 = 숫자1 >= 숫자2\n",
        "결과4 = 숫자1 >= 숫자2\n",
        "결과5 = 숫자1 == 숫자2\n",
        "결과6 = 숫자2 != 숫자2\n",
        "print(결과3)\n",
        "print(결과4)\n",
        "print(결과5)\n",
        "print(결과6)"
      ],
      "metadata": {
        "colab": {
          "base_uri": "https://localhost:8080/"
        },
        "id": "C3rRMNHHVxXV",
        "outputId": "40fca47f-684a-4daa-a542-cfa521ae37bb"
      },
      "execution_count": null,
      "outputs": [
        {
          "output_type": "stream",
          "name": "stdout",
          "text": [
            "False\n",
            "False\n",
            "False\n",
            "False\n"
          ]
        }
      ]
    },
    {
      "cell_type": "markdown",
      "source": [
        "# 조건문"
      ],
      "metadata": {
        "id": "k6BVzpo9WJxX"
      }
    },
    {
      "cell_type": "code",
      "source": [
        "# if True/False 가 들어간다.\n",
        "if False:\n",
        "    print(\"거짓입니다.\")"
      ],
      "metadata": {
        "id": "K7T3MA9vV7oj"
      },
      "execution_count": null,
      "outputs": []
    },
    {
      "cell_type": "code",
      "source": [
        "if True:\n",
        "    print(\"참입니다.\")"
      ],
      "metadata": {
        "colab": {
          "base_uri": "https://localhost:8080/"
        },
        "id": "eFZiMFfxWrZe",
        "outputId": "3bd3ca74-822e-4d1e-aab6-59b35c295bfa"
      },
      "execution_count": null,
      "outputs": [
        {
          "output_type": "stream",
          "name": "stdout",
          "text": [
            "참입니다.\n"
          ]
        }
      ]
    },
    {
      "cell_type": "code",
      "source": [
        "not True"
      ],
      "metadata": {
        "colab": {
          "base_uri": "https://localhost:8080/"
        },
        "id": "GEmu8iSKWwyr",
        "outputId": "6413172b-044c-4351-fe1a-8f24dacc32f0"
      },
      "execution_count": null,
      "outputs": [
        {
          "output_type": "execute_result",
          "data": {
            "text/plain": [
              "False"
            ]
          },
          "metadata": {},
          "execution_count": 150
        }
      ]
    },
    {
      "cell_type": "code",
      "source": [
        "if not False:\n",
        "    print(\"거짓입니다.\")"
      ],
      "metadata": {
        "colab": {
          "base_uri": "https://localhost:8080/"
        },
        "id": "nhYTpHLcW7dx",
        "outputId": "fbac88d3-fffe-4772-890c-6b5cbe34042b"
      },
      "execution_count": null,
      "outputs": [
        {
          "output_type": "stream",
          "name": "stdout",
          "text": [
            "거짓입니다.\n"
          ]
        }
      ]
    },
    {
      "cell_type": "code",
      "source": [
        "if not False:\n",
        "    print(\"거짓말입니다.\")\n",
        "else:\n",
        "    print(\"조건에 맞는것이 없습니다.\")"
      ],
      "metadata": {
        "id": "hIL1OlF7XOhv"
      },
      "execution_count": null,
      "outputs": []
    },
    {
      "cell_type": "code",
      "source": [
        "조건 = True\n",
        "if not 조건:\n",
        "    print(\"거짓말입니다.\")\n",
        "else:\n",
        "    print(\"조건에 맞는것이 없습니다.\")"
      ],
      "metadata": {
        "colab": {
          "base_uri": "https://localhost:8080/"
        },
        "id": "BraVXeWhXcLr",
        "outputId": "44f7751f-818f-4b71-b956-26f680fa9e3f"
      },
      "execution_count": null,
      "outputs": [
        {
          "output_type": "stream",
          "name": "stdout",
          "text": [
            "조건에 맞는것이 없습니다.\n"
          ]
        }
      ]
    },
    {
      "cell_type": "code",
      "source": [
        "숫자1 = 1\n",
        "숫자2 = 10\n",
        "숫자3 = 15\n",
        "if 숫자1>5:\n",
        "    print(\"숫자1이 5보다 큽니다.\")\n",
        "elif 숫자2<11:\n",
        "    print(\"숫자2가 11보다 작습니다.\")\n",
        "else:\n",
        "   print(숫자3, \"마지막 숫자입니다.\")"
      ],
      "metadata": {
        "colab": {
          "base_uri": "https://localhost:8080/"
        },
        "id": "-UbstmGBXll5",
        "outputId": "b8287744-4384-4692-a2fd-2f1e54276958"
      },
      "execution_count": null,
      "outputs": [
        {
          "output_type": "stream",
          "name": "stdout",
          "text": [
            "숫자2가 11보다 작습니다.\n"
          ]
        }
      ]
    },
    {
      "cell_type": "markdown",
      "source": [
        "# 논리연산"
      ],
      "metadata": {
        "id": "-IhFulnQYU67"
      }
    },
    {
      "cell_type": "code",
      "source": [
        "print(False and False)"
      ],
      "metadata": {
        "colab": {
          "base_uri": "https://localhost:8080/"
        },
        "id": "Nx8A4QrQYT7I",
        "outputId": "cb75114f-487b-4e37-e028-9c4b63ab991d"
      },
      "execution_count": null,
      "outputs": [
        {
          "output_type": "stream",
          "name": "stdout",
          "text": [
            "False\n"
          ]
        }
      ]
    },
    {
      "cell_type": "code",
      "source": [
        "print(True and False) # and : 둘다 참이어야 참"
      ],
      "metadata": {
        "colab": {
          "base_uri": "https://localhost:8080/"
        },
        "id": "edErdPcMZGT0",
        "outputId": "725a0721-af81-4d9f-fa4b-856cb410c778"
      },
      "execution_count": null,
      "outputs": [
        {
          "output_type": "stream",
          "name": "stdout",
          "text": [
            "False\n"
          ]
        }
      ]
    },
    {
      "cell_type": "code",
      "source": [
        "print(True or False) # or : 둘 중 하나만 참이어도 참"
      ],
      "metadata": {
        "colab": {
          "base_uri": "https://localhost:8080/"
        },
        "id": "Qstt5vPfZI9l",
        "outputId": "4b77a41c-1f69-4dd3-fd88-10035ae9072e"
      },
      "execution_count": null,
      "outputs": [
        {
          "output_type": "stream",
          "name": "stdout",
          "text": [
            "True\n"
          ]
        }
      ]
    },
    {
      "cell_type": "code",
      "source": [
        "입력받은값 = input()"
      ],
      "metadata": {
        "colab": {
          "base_uri": "https://localhost:8080/"
        },
        "id": "Oa7hvDmuZwTV",
        "outputId": "e926ec9f-5385-47b2-8bed-4b8373af4b82"
      },
      "execution_count": null,
      "outputs": [
        {
          "name": "stdout",
          "output_type": "stream",
          "text": [
            "10\n"
          ]
        }
      ]
    },
    {
      "cell_type": "code",
      "source": [
        "print(입력받은값 > 5)"
      ],
      "metadata": {
        "colab": {
          "base_uri": "https://localhost:8080/",
          "height": 176
        },
        "id": "LM4AcZR5Zv8P",
        "outputId": "f9924774-fd60-49b7-9c69-bd9df603208c"
      },
      "execution_count": null,
      "outputs": [
        {
          "output_type": "error",
          "ename": "TypeError",
          "evalue": "ignored",
          "traceback": [
            "\u001b[0;31m---------------------------------------------------------------------------\u001b[0m",
            "\u001b[0;31mTypeError\u001b[0m                                 Traceback (most recent call last)",
            "\u001b[0;32m<ipython-input-165-0bd87519ab81>\u001b[0m in \u001b[0;36m<module>\u001b[0;34m()\u001b[0m\n\u001b[0;32m----> 1\u001b[0;31m \u001b[0mprint\u001b[0m\u001b[0;34m(\u001b[0m\u001b[0m입력받은값\u001b[0m \u001b[0;34m>\u001b[0m \u001b[0;36m5\u001b[0m\u001b[0;34m)\u001b[0m\u001b[0;34m\u001b[0m\u001b[0;34m\u001b[0m\u001b[0m\n\u001b[0m",
            "\u001b[0;31mTypeError\u001b[0m: '>' not supported between instances of 'str' and 'int'"
          ]
        }
      ]
    },
    {
      "cell_type": "code",
      "source": [
        "print(type(입력받은값))"
      ],
      "metadata": {
        "colab": {
          "base_uri": "https://localhost:8080/"
        },
        "id": "dfbnVGMgaemE",
        "outputId": "fce9b0ec-810b-4d16-bd80-47578daa1d19"
      },
      "execution_count": null,
      "outputs": [
        {
          "output_type": "stream",
          "name": "stdout",
          "text": [
            "<class 'str'>\n"
          ]
        }
      ]
    },
    {
      "cell_type": "code",
      "source": [
        "입력받은숫자 = int(입력받은값)"
      ],
      "metadata": {
        "id": "lmEX-To9aiO_"
      },
      "execution_count": null,
      "outputs": []
    },
    {
      "cell_type": "code",
      "source": [
        "print(type(입력받은숫자))"
      ],
      "metadata": {
        "colab": {
          "base_uri": "https://localhost:8080/"
        },
        "id": "kSkWcYoyanEV",
        "outputId": "1c6fa54e-ac00-4b17-e778-b270556dbe4b"
      },
      "execution_count": null,
      "outputs": [
        {
          "output_type": "stream",
          "name": "stdout",
          "text": [
            "<class 'int'>\n"
          ]
        }
      ]
    },
    {
      "cell_type": "code",
      "source": [
        "첫번째숫자 = input()\n",
        "두번째숫자 = input()\n",
        "\n",
        "첫번째숫자임 = int(첫번째숫자)\n",
        "두번째숫자임 = int(두번째숫자)\n",
        "\n",
        "if (첫번째숫자임 > 두번째숫자임): #숫자 2개를 입력받아서 비교함\n",
        "    print(\"첫번째 숫자가 큽니다.\")\n",
        "elif (첫번째숫자임 == 두번째숫자임):\n",
        "\n",
        "    print(\"숫자가 같습니다.\")\n",
        "else :\n",
        "    print(\"두번째 숫자가 큽니다.\")"
      ],
      "metadata": {
        "colab": {
          "base_uri": "https://localhost:8080/"
        },
        "id": "-PrByUJQa1PR",
        "outputId": "f23df160-64e2-4993-9c7c-9e06178ab834"
      },
      "execution_count": null,
      "outputs": [
        {
          "output_type": "stream",
          "name": "stdout",
          "text": [
            "329175987098372498\n",
            "988721983758971093847\n",
            "두번째 숫자가 큽니다.\n"
          ]
        }
      ]
    },
    {
      "cell_type": "markdown",
      "source": [
        "# 반복문"
      ],
      "metadata": {
        "id": "2v5Y--2LfHWS"
      }
    },
    {
      "cell_type": "code",
      "source": [
        "# while True인 동안:\n",
        "카운트 = 0\n",
        "while 카운트 < 10:\n",
        "  print(카운트)\n",
        "  카운트 = 카운트 + 1"
      ],
      "metadata": {
        "colab": {
          "base_uri": "https://localhost:8080/"
        },
        "id": "cqYiyO6wfHIJ",
        "outputId": "fcc9d40a-b33a-4ef6-d718-c96a299b774f"
      },
      "execution_count": null,
      "outputs": [
        {
          "output_type": "stream",
          "name": "stdout",
          "text": [
            "0\n",
            "1\n",
            "2\n",
            "3\n",
            "4\n",
            "5\n",
            "6\n",
            "7\n",
            "8\n",
            "9\n"
          ]
        }
      ]
    },
    {
      "cell_type": "code",
      "source": [
        "# while True인 동안:\n",
        "카운트 = 0\n",
        "while 카운트 < 10:\n",
        "  print(카운트)\n",
        "  카운트 = 카운트 + 1\n",
        "  break"
      ],
      "metadata": {
        "colab": {
          "base_uri": "https://localhost:8080/"
        },
        "id": "JEvdtb2lfF0R",
        "outputId": "87939789-602d-43ea-a3dd-d5cff32fa13c"
      },
      "execution_count": null,
      "outputs": [
        {
          "output_type": "stream",
          "name": "stdout",
          "text": [
            "0\n"
          ]
        }
      ]
    },
    {
      "cell_type": "code",
      "source": [
        "for 숫자 in [10,1,2,3,4]:\n",
        "    print(숫자)\n"
      ],
      "metadata": {
        "colab": {
          "base_uri": "https://localhost:8080/"
        },
        "id": "Efi_VCLVgLQ0",
        "outputId": "f16a1100-b952-401a-fefa-26ad454661ab"
      },
      "execution_count": null,
      "outputs": [
        {
          "output_type": "stream",
          "name": "stdout",
          "text": [
            "10\n",
            "1\n",
            "2\n",
            "3\n",
            "4\n"
          ]
        }
      ]
    },
    {
      "cell_type": "code",
      "source": [
        "레인지 = range(10) # 0부터 9까지"
      ],
      "metadata": {
        "id": "JImQ9fOliZpV"
      },
      "execution_count": null,
      "outputs": []
    },
    {
      "cell_type": "code",
      "source": [
        "print(레인지) #순서가 있음"
      ],
      "metadata": {
        "colab": {
          "base_uri": "https://localhost:8080/"
        },
        "id": "vVhPEkobgb79",
        "outputId": "1c13f2d5-c145-4d13-b113-01080f075675"
      },
      "execution_count": null,
      "outputs": [
        {
          "output_type": "stream",
          "name": "stdout",
          "text": [
            "range(0, 10)\n"
          ]
        }
      ]
    },
    {
      "cell_type": "code",
      "source": [
        "for 숫자 in range(10):\n",
        "    if 숫자%2 == 1:\n",
        "        print(숫자)"
      ],
      "metadata": {
        "colab": {
          "base_uri": "https://localhost:8080/"
        },
        "id": "B1OIiPauinf6",
        "outputId": "57f158d5-09d0-4219-ce94-5455324ee0b8"
      },
      "execution_count": null,
      "outputs": [
        {
          "output_type": "stream",
          "name": "stdout",
          "text": [
            "1\n",
            "3\n",
            "5\n",
            "7\n",
            "9\n"
          ]
        }
      ]
    },
    {
      "cell_type": "code",
      "source": [
        "for 숫자 in range(10):\n",
        "    for 숫자2 in range(5):\n",
        "        print(숫자, 숫자2)"
      ],
      "metadata": {
        "id": "Eki7zLibjDW9"
      },
      "execution_count": null,
      "outputs": []
    },
    {
      "cell_type": "code",
      "source": [
        "for 숫자 in range(2, 10):\n",
        "    for 숫자2 in range(2, 10):\n",
        "        print(숫자, \"X\", 숫자2, \"=\", 숫자*숫자2,end=\"\")\n",
        "        print(\"\\n\")"
      ],
      "metadata": {
        "id": "HK85jkzmjYn3"
      },
      "execution_count": null,
      "outputs": []
    },
    {
      "cell_type": "code",
      "source": [
        "# 아래 로직 계속 실행\n",
        "# 숫자 입력받기\n",
        "# 1부터 9까지만 입력을 받을 수 있습니다.\n",
        "# 입력받은 수의 2,3,4,5,6,7,8,9 곱한값 출력하기\n",
        "# 0을 입력하면 종료 (문자열 대입 생각 X)\n",
        "  \n",
        "숫자 = input()\n",
        "숫자 = int(숫자)\n",
        "\n",
        "\n",
        "      \n",
        "      \n",
        "\n"
      ],
      "metadata": {
        "colab": {
          "base_uri": "https://localhost:8080/",
          "height": 138
        },
        "id": "DRo6rBfbk9Kj",
        "outputId": "0a9fb0c0-afdc-4b5d-cbe7-08ba4a19ce49"
      },
      "execution_count": null,
      "outputs": [
        {
          "output_type": "error",
          "ename": "IndentationError",
          "evalue": "ignored",
          "traceback": [
            "\u001b[0;36m  File \u001b[0;32m\"<ipython-input-219-39671841492f>\"\u001b[0;36m, line \u001b[0;32m11\u001b[0m\n\u001b[0;31m    if(숫자 ==0):\u001b[0m\n\u001b[0m               ^\u001b[0m\n\u001b[0;31mIndentationError\u001b[0m\u001b[0;31m:\u001b[0m unindent does not match any outer indentation level\n"
          ]
        }
      ]
    }
  ]
}