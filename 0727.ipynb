{
  "nbformat": 4,
  "nbformat_minor": 0,
  "metadata": {
    "colab": {
      "name": "0727.ipynb",
      "provenance": [],
      "collapsed_sections": []
    },
    "kernelspec": {
      "name": "python3",
      "display_name": "Python 3"
    },
    "language_info": {
      "name": "python"
    }
  },
  "cells": [
    {
      "cell_type": "markdown",
      "source": [
        "# 함수\n",
        "---\n",
        "함수란 어떤 기능을 제공하는것 "
      ],
      "metadata": {
        "id": "sHRHDJLrFwre"
      }
    },
    {
      "cell_type": "code",
      "execution_count": 2,
      "metadata": {
        "colab": {
          "base_uri": "https://localhost:8080/"
        },
        "id": "Wn6ey7niE6E-",
        "outputId": "6840826c-db9e-4560-e27f-63d65860a285"
      },
      "outputs": [
        {
          "output_type": "stream",
          "name": "stdout",
          "text": [
            "사칙연산 기호(+ - * /)를 입력해주세요+\n",
            "첫번째숫자를 입력해주세요123\n",
            "두번째숫자를 입력해주세요123\n",
            "더하기입니다.\n",
            "246\n",
            "종료하려면 1을 입력해주세요1\n",
            "종료합니다.\n"
          ]
        }
      ],
      "source": [
        "while True:\n",
        "    # 입력값 받기\n",
        "    사칙연산 = input(\"사칙연산 기호(+ - * /)를 입력해주세요\")\n",
        "    첫번째숫자 = int(input(\"첫번째숫자를 입력해주세요\"))\n",
        "    두번째숫자 = int(input(\"두번째숫자를 입력해주세요\"))\n",
        "    # 계산 및 출력\n",
        "    if 사칙연산==\"+\":\n",
        "        print(\"더하기입니다.\")\n",
        "        print(첫번째숫자+두번째숫자)\n",
        "    elif 사칙연산==\"-\":\n",
        "        print(\"빼기입니다.\")\n",
        "        print(첫번째숫자-두번째숫자)\n",
        "    elif 사칙연산==\"*\":\n",
        "        print(\"곱하기입니다.\")\n",
        "        print(첫번째숫자*두번째숫자)\n",
        "    elif 사칙연산==\"/\":\n",
        "        print(\"나누기입니다.\")\n",
        "        print(첫번째숫자/두번째숫자)\n",
        "    # 종료 여부 확인 후 종료\n",
        "    종료여부 = input(\"종료하려면 1을 입력해주세요\")\n",
        "    if 종료여부==\"1\":\n",
        "        print(\"종료합니다.\")\n",
        "        break"
      ]
    },
    {
      "cell_type": "code",
      "source": [
        "# def 함수명(매개변수):\n",
        "#     수행할 문장(logic)\n",
        "#     retrun 결과값"
      ],
      "metadata": {
        "id": "3hO-0PHkJ78t"
      },
      "execution_count": 4,
      "outputs": []
    },
    {
      "cell_type": "code",
      "source": [
        "#함수만들기, 함수 정의, 함수 선언\n",
        "def hello():\n",
        "    print(\"안녕하세요\")"
      ],
      "metadata": {
        "id": "M2roiI5NLB2G"
      },
      "execution_count": 5,
      "outputs": []
    },
    {
      "cell_type": "code",
      "source": [
        "hello() #저런 괄호를 함수를 호출한다라고 함"
      ],
      "metadata": {
        "colab": {
          "base_uri": "https://localhost:8080/"
        },
        "id": "HnTA2C0zLHsR",
        "outputId": "d6a3dc9e-cac7-4701-c15c-0b5f2770c353"
      },
      "execution_count": 7,
      "outputs": [
        {
          "output_type": "stream",
          "name": "stdout",
          "text": [
            "안녕하세요\n"
          ]
        }
      ]
    },
    {
      "cell_type": "code",
      "source": [
        "def helloToName(name): #name: 매개변수\n",
        "    print(name,\"님 안녕하세요\")"
      ],
      "metadata": {
        "id": "f-M3bnOYLWZV"
      },
      "execution_count": 8,
      "outputs": []
    },
    {
      "cell_type": "code",
      "source": [
        "helloToName(\"이종진\")"
      ],
      "metadata": {
        "colab": {
          "base_uri": "https://localhost:8080/"
        },
        "id": "3mta9JefLcaa",
        "outputId": "52b63ad3-9b7e-43b1-bf85-07d25a49b6a0"
      },
      "execution_count": 13,
      "outputs": [
        {
          "output_type": "stream",
          "name": "stdout",
          "text": [
            "이종진 님 안녕하세요\n"
          ]
        }
      ]
    },
    {
      "cell_type": "code",
      "source": [
        "def add(num, num2):\n",
        "   result = num+num2\n",
        "   #reture을 안하면 return의 기본값은 none"
      ],
      "metadata": {
        "id": "K76KQmPKLwmp"
      },
      "execution_count": 16,
      "outputs": []
    },
    {
      "cell_type": "code",
      "source": [
        "add(1,2)\n",
        "addResult = add(1,2)\n",
        "print(addResult)"
      ],
      "metadata": {
        "colab": {
          "base_uri": "https://localhost:8080/"
        },
        "id": "PHt1pZMuMEO-",
        "outputId": "da12214b-530d-4ba4-b372-49a98ace4a71"
      },
      "execution_count": 19,
      "outputs": [
        {
          "output_type": "stream",
          "name": "stdout",
          "text": [
            "None\n"
          ]
        }
      ]
    },
    {
      "cell_type": "code",
      "source": [
        "def add2(num, num2):\n",
        "   result = num+num2\n",
        "   return result"
      ],
      "metadata": {
        "id": "0jckuFmTMUGA"
      },
      "execution_count": 20,
      "outputs": []
    },
    {
      "cell_type": "code",
      "source": [
        "addResult2 = add2(1,2)\n",
        "print(addResult2)"
      ],
      "metadata": {
        "colab": {
          "base_uri": "https://localhost:8080/"
        },
        "id": "Bvf-FD1xMah3",
        "outputId": "17bcdd45-f8f2-4375-e0e5-317c035733e0"
      },
      "execution_count": 21,
      "outputs": [
        {
          "output_type": "stream",
          "name": "stdout",
          "text": [
            "3\n"
          ]
        }
      ]
    },
    {
      "cell_type": "code",
      "source": [
        "def add2(num, num2):\n",
        "   result = num+num2\n",
        "   return result"
      ],
      "metadata": {
        "id": "PWu6kQ29NeRq"
      },
      "execution_count": null,
      "outputs": []
    },
    {
      "cell_type": "code",
      "source": [
        "def 덧셈출력(첫번째수, 두번째수):\n",
        "    덧셈결과 = 첫번째수 + 두번째수\n",
        "    print(덧셈결과)\n",
        "덧셈출력(10,20)"
      ],
      "metadata": {
        "colab": {
          "base_uri": "https://localhost:8080/"
        },
        "id": "HxlLnj7_NK_0",
        "outputId": "34164d55-c5b1-4cfa-a0b4-9b9a9837530f"
      },
      "execution_count": 22,
      "outputs": [
        {
          "output_type": "stream",
          "name": "stdout",
          "text": [
            "30\n"
          ]
        }
      ]
    },
    {
      "cell_type": "code",
      "source": [
        "def 덧셈(첫번째수, 두번째수):\n",
        "    덧셈결과 = 첫번째수 + 두번째수\n",
        "    # return은 실행한곳에 값을 리턴해준다.\n",
        "    # return을 하면 함수가 종료된다.\n",
        "    return 덧셈결과"
      ],
      "metadata": {
        "id": "8bUWdbv0NT0b"
      },
      "execution_count": null,
      "outputs": []
    },
    {
      "cell_type": "code",
      "source": [
        "# 아래와 같이 만들어진경우에는\n",
        "# x와 y가 뒤죽박죽이ㅡㅠ된다.\n",
        "# 함수를 사용할때 명확하지못하다.\n",
        "def x빼기y(y, x):\n",
        "    뺄셈결과 = x - y\n",
        "    print(뺄셈결과)\n",
        "x빼기y(20, 10)# -10\n",
        "#매개변수를 함수에 넣을때\n",
        "#매개변수명을 지정할 수 있다.\n",
        "x빼기y(x=20, y=10) # 10"
      ],
      "metadata": {
        "colab": {
          "base_uri": "https://localhost:8080/"
        },
        "id": "oJfGvfM2N9In",
        "outputId": "6575b4ef-9835-4833-bc6d-e9ef73b17494"
      },
      "execution_count": 24,
      "outputs": [
        {
          "output_type": "stream",
          "name": "stdout",
          "text": [
            "-10\n",
            "10\n"
          ]
        }
      ]
    },
    {
      "cell_type": "code",
      "source": [
        "def 덧셈뺄셈(x,y):\n",
        "    덧셈결과 = x+y\n",
        "    뺄셈결과 = x-y\n",
        "    return 덧셈결과, 뺄셈결과"
      ],
      "metadata": {
        "id": "r90f8dx_S_eO"
      },
      "execution_count": 25,
      "outputs": []
    },
    {
      "cell_type": "code",
      "source": [
        "결과 = 덧셈뺄셈(1,2)\n",
        "print(결과) #값이 바뀌지 말라고 튜플을 이용"
      ],
      "metadata": {
        "colab": {
          "base_uri": "https://localhost:8080/"
        },
        "id": "WPs0f3XkTBl7",
        "outputId": "a3f15ba6-87de-430f-f2b0-55d3a4b733ae"
      },
      "execution_count": 26,
      "outputs": [
        {
          "output_type": "stream",
          "name": "stdout",
          "text": [
            "(3, -1)\n"
          ]
        }
      ]
    },
    {
      "cell_type": "code",
      "source": [
        "#튜플을 아래와같이 변수에할당 가능하다\n",
        "튜플값1, 튜플값2 = (1, 2)\n",
        "print(튜플값1)"
      ],
      "metadata": {
        "colab": {
          "base_uri": "https://localhost:8080/"
        },
        "id": "At5htr8oTaZ3",
        "outputId": "34e9b797-6739-465a-814e-566e5badbf97"
      },
      "execution_count": 27,
      "outputs": [
        {
          "output_type": "stream",
          "name": "stdout",
          "text": [
            "1\n"
          ]
        }
      ]
    },
    {
      "cell_type": "code",
      "source": [
        "덧셈결과, 뺄셈결과 = 덧셈뺄셈(20,10)\n",
        "print(덧셈결과)\n",
        "print(뺄셈결과)"
      ],
      "metadata": {
        "colab": {
          "base_uri": "https://localhost:8080/"
        },
        "id": "1WbLLXqNUZ2o",
        "outputId": "2d20c48a-4511-40f7-99ae-817e0ee5721d"
      },
      "execution_count": 29,
      "outputs": [
        {
          "output_type": "stream",
          "name": "stdout",
          "text": [
            "30\n",
            "10\n"
          ]
        }
      ]
    },
    {
      "cell_type": "code",
      "source": [
        "def 값입력하기():\n",
        "    사칙연산 = input(\"사칙연산 기호(+ - * /)를 입력해주세요\")\n",
        "    첫번째숫자 = int(input(\"첫번째숫자를 입력해주세요\"))\n",
        "    두번째숫자 = int(input(\"두번째숫자를 입력해주세요\"))\n",
        "    return 사칙연산, 첫번째숫자, 두번째숫자"
      ],
      "metadata": {
        "id": "hP_jXM3EVcrN"
      },
      "execution_count": 33,
      "outputs": []
    },
    {
      "cell_type": "code",
      "source": [
        "사칙연산, 첫번째숫자, 두번째숫자 = 값입력하기()"
      ],
      "metadata": {
        "colab": {
          "base_uri": "https://localhost:8080/"
        },
        "id": "YqwlLLmUVwo8",
        "outputId": "8df72601-91c7-4218-9ae1-812516077746"
      },
      "execution_count": 37,
      "outputs": [
        {
          "name": "stdout",
          "output_type": "stream",
          "text": [
            "사칙연산 기호(+ - * /)를 입력해주세요*\n",
            "첫번째숫자를 입력해주세요4894849391\n",
            "두번째숫자를 입력해주세요817872872\n"
          ]
        }
      ]
    },
    {
      "cell_type": "code",
      "source": [
        "print(사칙연산, 첫번째숫자, 두번째숫자)"
      ],
      "metadata": {
        "colab": {
          "base_uri": "https://localhost:8080/"
        },
        "id": "-67yrxtKWEXN",
        "outputId": "58913888-1d03-4bb3-df38-c75f36aee514"
      },
      "execution_count": 38,
      "outputs": [
        {
          "output_type": "stream",
          "name": "stdout",
          "text": [
            "* 4894849391 817872872\n"
          ]
        }
      ]
    },
    {
      "cell_type": "code",
      "source": [
        "def 계산및출력(사칙연산, 첫번째숫자, 두번째숫자):\n",
        "    if 사칙연산==\"+\":\n",
        "        print(\"더하기입니다.\")\n",
        "        print(첫번째숫자+두번째숫자)\n",
        "    elif 사칙연산==\"-\":\n",
        "        print(\"빼기입니다.\")\n",
        "        print(첫번째숫자-두번째숫자)\n",
        "    elif 사칙연산==\"*\":\n",
        "        print(\"곱하기입니다.\")\n",
        "        print(첫번째숫자*두번째숫자)\n",
        "    elif 사칙연산==\"/\":\n",
        "        print(\"나누기입니다.\")\n",
        "        print(첫번째숫자/두번째숫자)"
      ],
      "metadata": {
        "id": "5WxknKzzWWyg"
      },
      "execution_count": 40,
      "outputs": []
    },
    {
      "cell_type": "code",
      "source": [
        "계산및출력(사칙연산 = \"*\", 첫번째숫자 = 78, 두번째숫자 = 38)"
      ],
      "metadata": {
        "colab": {
          "base_uri": "https://localhost:8080/"
        },
        "id": "3JFdecXkXHAY",
        "outputId": "2e437b3a-42c3-4d00-d668-a47a83670921"
      },
      "execution_count": 49,
      "outputs": [
        {
          "output_type": "stream",
          "name": "stdout",
          "text": [
            "곱하기입니다.\n",
            "2964\n"
          ]
        }
      ]
    },
    {
      "cell_type": "code",
      "source": [
        "def 종료여부확인():\n",
        "    종료여부 = input(\"종료하려면 1을 입력해주세요\")\n",
        "    return 종료여부==\"1\""
      ],
      "metadata": {
        "id": "J-hBubNpXpdf"
      },
      "execution_count": 52,
      "outputs": []
    },
    {
      "cell_type": "code",
      "source": [
        "종료여부 = 종료여부확인()\n",
        "print(종료여부)"
      ],
      "metadata": {
        "colab": {
          "base_uri": "https://localhost:8080/"
        },
        "id": "Q_2BQ1HZXrGa",
        "outputId": "cf5d3455-48ee-4bb4-93e9-fccbca8a1dde"
      },
      "execution_count": 54,
      "outputs": [
        {
          "output_type": "stream",
          "name": "stdout",
          "text": [
            "종료하려면 1을 입력해주세요1\n",
            "True\n"
          ]
        }
      ]
    },
    {
      "cell_type": "code",
      "source": [
        "while True:\n",
        "   기호, 첫번째숫자, 두번째숫자 = 값입력하기()\n",
        "   계산및출력(기호, 첫번째숫자, 두번째숫자)\n",
        "   종료여부 = 종료여부확인()\n",
        "   if 종료여부:\n",
        "     break"
      ],
      "metadata": {
        "colab": {
          "base_uri": "https://localhost:8080/"
        },
        "id": "arCS75D5YPEq",
        "outputId": "4c8b70c7-223b-4b79-9d26-cd97c1bec8db"
      },
      "execution_count": 59,
      "outputs": [
        {
          "name": "stdout",
          "output_type": "stream",
          "text": [
            "사칙연산 기호(+ - * /)를 입력해주세요+\n",
            "첫번째숫자를 입력해주세요12\n",
            "두번째숫자를 입력해주세요12\n",
            "더하기입니다.\n",
            "24\n",
            "종료하려면 1을 입력해주세요1\n"
          ]
        }
      ]
    },
    {
      "cell_type": "code",
      "source": [
        "def 계산기():\n",
        "  while True:\n",
        "   기호, 첫번째숫자, 두번째숫자 = 값입력하기()\n",
        "   계산및출력(기호, 첫번째숫자, 두번째숫자)\n",
        "   종료여부 = 종료여부확인()\n",
        "   if 종료여부:\n",
        "     break"
      ],
      "metadata": {
        "id": "7F8lxBUIZv5g"
      },
      "execution_count": 60,
      "outputs": []
    },
    {
      "cell_type": "code",
      "source": [
        "계산기()"
      ],
      "metadata": {
        "colab": {
          "base_uri": "https://localhost:8080/"
        },
        "id": "AIN6CgFaZ0we",
        "outputId": "560f9f6a-84c3-403a-b601-fb967a411aa8"
      },
      "execution_count": 64,
      "outputs": [
        {
          "name": "stdout",
          "output_type": "stream",
          "text": [
            "사칙연산 기호(+ - * /)를 입력해주세요+\n",
            "첫번째숫자를 입력해주세요1233\n",
            "두번째숫자를 입력해주세요1233\n",
            "더하기입니다.\n",
            "2466\n",
            "종료하려면 1을 입력해주세요1\n"
          ]
        }
      ]
    },
    {
      "cell_type": "markdown",
      "source": [
        "# 클래스\n"
      ],
      "metadata": {
        "id": "QnqLZn9viwfH"
      }
    },
    {
      "cell_type": "code",
      "source": [
        "num = 1\n",
        "print(type(num))"
      ],
      "metadata": {
        "colab": {
          "base_uri": "https://localhost:8080/"
        },
        "id": "W1J24nKgi0sq",
        "outputId": "c68c6a9c-2351-43eb-b911-fefcd346abab"
      },
      "execution_count": 65,
      "outputs": [
        {
          "output_type": "stream",
          "name": "stdout",
          "text": [
            "<class 'int'>\n"
          ]
        }
      ]
    },
    {
      "cell_type": "code",
      "source": [
        "string = \"hello\"\n",
        "print(type(string))"
      ],
      "metadata": {
        "colab": {
          "base_uri": "https://localhost:8080/"
        },
        "id": "vjNbwY9Hi5jZ",
        "outputId": "8a47b992-5bcc-499d-e6cc-04066376ee8a"
      },
      "execution_count": 66,
      "outputs": [
        {
          "output_type": "stream",
          "name": "stdout",
          "text": [
            "<class 'str'>\n"
          ]
        }
      ]
    },
    {
      "cell_type": "code",
      "source": [
        "class Animal:\n",
        "  pass #pass구문은 코드상 필요하지만 동작시 아무것도 안되게함."
      ],
      "metadata": {
        "id": "GwGMXE6EjObv"
      },
      "execution_count": 67,
      "outputs": []
    },
    {
      "cell_type": "code",
      "source": [
        "animal = Animal()\n",
        "print(type(animal))"
      ],
      "metadata": {
        "colab": {
          "base_uri": "https://localhost:8080/"
        },
        "id": "_cgfMlwVjrc8",
        "outputId": "69bd57dd-344b-44fc-f22f-f4e88e0d377f"
      },
      "execution_count": 68,
      "outputs": [
        {
          "output_type": "stream",
          "name": "stdout",
          "text": [
            "<class '__main__.Animal'>\n"
          ]
        }
      ]
    },
    {
      "cell_type": "code",
      "source": [
        "class Animal:\n",
        "    kor = \"동물\"\n",
        "    def 숨쉬기():\n",
        "      print(\"숨을 쉽니다.\")\n",
        "    def 움직이기():\n",
        "      print(\"몸을 움직입니다.\")"
      ],
      "metadata": {
        "id": "GUN0c2jZkBT_"
      },
      "execution_count": 69,
      "outputs": []
    },
    {
      "cell_type": "code",
      "source": [
        "개 = Animal()\n",
        "print(type(개))\n",
        "Animal.숨쉬기()\n",
        "Animal.움직이기()\n",
        "print(\"=========================\")\n",
        "개.숨쉬기()\n",
        "개.움직이기()"
      ],
      "metadata": {
        "colab": {
          "base_uri": "https://localhost:8080/",
          "height": 306
        },
        "id": "-y8WfpUDkRSd",
        "outputId": "c2ee29db-7af3-4e75-e5ff-f5bf418346ab"
      },
      "execution_count": 70,
      "outputs": [
        {
          "output_type": "stream",
          "name": "stdout",
          "text": [
            "<class '__main__.Animal'>\n",
            "숨을 쉽니다.\n",
            "몸을 움직입니다.\n",
            "=========================\n"
          ]
        },
        {
          "output_type": "error",
          "ename": "TypeError",
          "evalue": "ignored",
          "traceback": [
            "\u001b[0;31m---------------------------------------------------------------------------\u001b[0m",
            "\u001b[0;31mTypeError\u001b[0m                                 Traceback (most recent call last)",
            "\u001b[0;32m<ipython-input-70-7f758181f718>\u001b[0m in \u001b[0;36m<module>\u001b[0;34m()\u001b[0m\n\u001b[1;32m      4\u001b[0m \u001b[0mAnimal\u001b[0m\u001b[0;34m.\u001b[0m\u001b[0m움직이기\u001b[0m\u001b[0;34m(\u001b[0m\u001b[0;34m)\u001b[0m\u001b[0;34m\u001b[0m\u001b[0;34m\u001b[0m\u001b[0m\n\u001b[1;32m      5\u001b[0m \u001b[0mprint\u001b[0m\u001b[0;34m(\u001b[0m\u001b[0;34m\"=========================\"\u001b[0m\u001b[0;34m)\u001b[0m\u001b[0;34m\u001b[0m\u001b[0;34m\u001b[0m\u001b[0m\n\u001b[0;32m----> 6\u001b[0;31m \u001b[0m개\u001b[0m\u001b[0;34m.\u001b[0m\u001b[0m숨쉬기\u001b[0m\u001b[0;34m(\u001b[0m\u001b[0;34m)\u001b[0m\u001b[0;34m\u001b[0m\u001b[0;34m\u001b[0m\u001b[0m\n\u001b[0m\u001b[1;32m      7\u001b[0m \u001b[0m개\u001b[0m\u001b[0;34m.\u001b[0m\u001b[0m움직이기\u001b[0m\u001b[0;34m(\u001b[0m\u001b[0;34m)\u001b[0m\u001b[0;34m\u001b[0m\u001b[0;34m\u001b[0m\u001b[0m\n",
            "\u001b[0;31mTypeError\u001b[0m: 숨쉬기() takes 0 positional arguments but 1 was given"
          ]
        }
      ]
    },
    {
      "cell_type": "code",
      "source": [
        "class Animal:\n",
        "    kor = \"동물\"\n",
        "    def 숨쉬기(self):\n",
        "      print(\"숨을 쉽니다.\")\n",
        "    def 움직이기(self):\n",
        "      print(\"몸을 움직입니다.\")\n",
        "    def 말하기(self, 문장):\n",
        "      print(문장)\n",
        "animal = Animal()\n",
        "animal.숨쉬기()\n",
        "animal.움직이기()\n",
        "animal.말하기(\"안녕하세요\")\n",
        "print(animal.kor)"
      ],
      "metadata": {
        "colab": {
          "base_uri": "https://localhost:8080/"
        },
        "id": "8g_TINuslUrO",
        "outputId": "8b45931f-7bb4-49ac-d2da-92543859a5da"
      },
      "execution_count": 71,
      "outputs": [
        {
          "output_type": "stream",
          "name": "stdout",
          "text": [
            "숨을 쉽니다.\n",
            "몸을 움직입니다.\n",
            "안녕하세요\n",
            "동물\n"
          ]
        }
      ]
    },
    {
      "cell_type": "code",
      "source": [
        "class Animal:\n",
        "    kor = \"동물\"\n",
        "    def __init__(self):\n",
        "      print(\"태어났습니다.\")\n",
        "    def 숨쉬기(self):\n",
        "      print(\"숨을 쉽니다.\")\n",
        "    def 움직이기(self):\n",
        "      print(\"몸을 움직입니다.\")\n",
        "    def 말하기(self, 문장):\n",
        "      print(문장)\n",
        "    def __del__(self):\n",
        "      print(\"죽었습니다.\")"
      ],
      "metadata": {
        "id": "J-NZhln3mUfh"
      },
      "execution_count": 93,
      "outputs": []
    },
    {
      "cell_type": "code",
      "source": [
        "animal = Animal()\n",
        "print(\"==========================\")"
      ],
      "metadata": {
        "colab": {
          "base_uri": "https://localhost:8080/"
        },
        "id": "Q6O4kbLqmkxg",
        "outputId": "bb58642b-b35c-414c-9aa1-fb2bcde48195"
      },
      "execution_count": 94,
      "outputs": [
        {
          "output_type": "stream",
          "name": "stdout",
          "text": [
            "태어났습니다.\n",
            "==========================\n"
          ]
        }
      ]
    },
    {
      "cell_type": "code",
      "source": [
        "del animal"
      ],
      "metadata": {
        "id": "EHmqUUMqmrzz"
      },
      "execution_count": 95,
      "outputs": []
    },
    {
      "cell_type": "code",
      "source": [
        "class Animal:\n",
        "    def __init__(self,키, 생일):\n",
        "      self.키 = 키\n",
        "      self.생일 = 생일\n",
        "      print(\"태어났습니다.\")\n",
        "    def 키얻기(self):\n",
        "      print(f\"키는 {self.키}cm 입니다.\")\n",
        "    def 생일얻기(self):\n",
        "      print(f\"생일은 {self.생일}\")\n",
        "    def 숨쉬기(self):\n",
        "      print(\"숨을 쉽니다.\")\n",
        "    def 움직이기(self):\n",
        "      print(\"몸을 움직입니다.\")\n",
        "    def 말하기(self, 문장):\n",
        "      print(\"죽었습니다.\")"
      ],
      "metadata": {
        "id": "cIZE4lE7oPZM"
      },
      "execution_count": 105,
      "outputs": []
    },
    {
      "cell_type": "code",
      "source": [
        "animal = Animal(키=30, 생일=20060417)\n",
        "print(animal.키)\n",
        "animal.키얻기()"
      ],
      "metadata": {
        "colab": {
          "base_uri": "https://localhost:8080/"
        },
        "id": "SgjJOgFBpYV0",
        "outputId": "02f15a35-656e-4717-adcf-4bd0f1846ed1"
      },
      "execution_count": 106,
      "outputs": [
        {
          "output_type": "stream",
          "name": "stdout",
          "text": [
            "태어났습니다.\n",
            "30\n",
            "키는 30cm 입니다.\n"
          ]
        }
      ]
    },
    {
      "cell_type": "code",
      "source": [
        "dir(animal)"
      ],
      "metadata": {
        "colab": {
          "base_uri": "https://localhost:8080/"
        },
        "id": "0Zw-6fQbqVGW",
        "outputId": "c555e933-c959-428b-9131-faebab25b894"
      },
      "execution_count": 107,
      "outputs": [
        {
          "output_type": "execute_result",
          "data": {
            "text/plain": [
              "['__class__',\n",
              " '__delattr__',\n",
              " '__dict__',\n",
              " '__dir__',\n",
              " '__doc__',\n",
              " '__eq__',\n",
              " '__format__',\n",
              " '__ge__',\n",
              " '__getattribute__',\n",
              " '__gt__',\n",
              " '__hash__',\n",
              " '__init__',\n",
              " '__init_subclass__',\n",
              " '__le__',\n",
              " '__lt__',\n",
              " '__module__',\n",
              " '__ne__',\n",
              " '__new__',\n",
              " '__reduce__',\n",
              " '__reduce_ex__',\n",
              " '__repr__',\n",
              " '__setattr__',\n",
              " '__sizeof__',\n",
              " '__str__',\n",
              " '__subclasshook__',\n",
              " '__weakref__',\n",
              " '말하기',\n",
              " '생일',\n",
              " '생일얻기',\n",
              " '숨쉬기',\n",
              " '움직이기',\n",
              " '키',\n",
              " '키얻기']"
            ]
          },
          "metadata": {},
          "execution_count": 107
        }
      ]
    },
    {
      "cell_type": "code",
      "source": [
        "print(type(animal.말하기))"
      ],
      "metadata": {
        "colab": {
          "base_uri": "https://localhost:8080/"
        },
        "id": "Ml1bS5PSqmaf",
        "outputId": "08c072ed-17b7-4f8e-98f2-2b51c8730395"
      },
      "execution_count": 108,
      "outputs": [
        {
          "output_type": "stream",
          "name": "stdout",
          "text": [
            "<class 'method'>\n"
          ]
        }
      ]
    },
    {
      "cell_type": "code",
      "source": [
        "class 개(Animal):\n",
        "  def 짖기(self):\n",
        "    print(\"멍\")"
      ],
      "metadata": {
        "id": "8QabnTUKrAZY"
      },
      "execution_count": 109,
      "outputs": []
    },
    {
      "cell_type": "code",
      "source": [
        "요크셔 = 개(키=30, 생일=\"오늘\")\n",
        "요크셔.짖기()"
      ],
      "metadata": {
        "colab": {
          "base_uri": "https://localhost:8080/"
        },
        "id": "5HNSrAvcrEH5",
        "outputId": "68e5482c-394a-401c-a0b1-a1a1e42f1fa0"
      },
      "execution_count": 110,
      "outputs": [
        {
          "output_type": "stream",
          "name": "stdout",
          "text": [
            "태어났습니다.\n",
            "멍\n"
          ]
        }
      ]
    },
    {
      "cell_type": "code",
      "source": [
        "요크셔.키얻기()"
      ],
      "metadata": {
        "colab": {
          "base_uri": "https://localhost:8080/",
          "height": 176
        },
        "id": "EdZSNjXZrWaF",
        "outputId": "c909f295-976e-4e3b-fc5a-002e8fbfaf0c"
      },
      "execution_count": 116,
      "outputs": [
        {
          "output_type": "error",
          "ename": "NameError",
          "evalue": "ignored",
          "traceback": [
            "\u001b[0;31m---------------------------------------------------------------------------\u001b[0m",
            "\u001b[0;31mNameError\u001b[0m                                 Traceback (most recent call last)",
            "\u001b[0;32m<ipython-input-116-f7e347d4c036>\u001b[0m in \u001b[0;36m<module>\u001b[0;34m()\u001b[0m\n\u001b[0;32m----> 1\u001b[0;31m \u001b[0m요크셔\u001b[0m\u001b[0;34m.\u001b[0m\u001b[0m키얻기\u001b[0m\u001b[0;34m(\u001b[0m\u001b[0;34m)\u001b[0m\u001b[0;34m\u001b[0m\u001b[0;34m\u001b[0m\u001b[0m\n\u001b[0m",
            "\u001b[0;31mNameError\u001b[0m: name '요크셔' is not defined"
          ]
        }
      ]
    },
    {
      "cell_type": "code",
      "source": [
        "del 요크셔 # del해서 다 없어짐"
      ],
      "metadata": {
        "colab": {
          "base_uri": "https://localhost:8080/",
          "height": 176
        },
        "id": "jGyKcPpBrn9S",
        "outputId": "b8c021f9-bcac-4b63-8132-5ad01a0aa04c"
      },
      "execution_count": 114,
      "outputs": [
        {
          "output_type": "error",
          "ename": "NameError",
          "evalue": "ignored",
          "traceback": [
            "\u001b[0;31m---------------------------------------------------------------------------\u001b[0m",
            "\u001b[0;31mNameError\u001b[0m                                 Traceback (most recent call last)",
            "\u001b[0;32m<ipython-input-114-91a9c664239f>\u001b[0m in \u001b[0;36m<module>\u001b[0;34m()\u001b[0m\n\u001b[0;32m----> 1\u001b[0;31m \u001b[0;32mdel\u001b[0m \u001b[0m요크셔\u001b[0m\u001b[0;34m\u001b[0m\u001b[0;34m\u001b[0m\u001b[0m\n\u001b[0m",
            "\u001b[0;31mNameError\u001b[0m: name '요크셔' is not defined"
          ]
        }
      ]
    }
  ]
}